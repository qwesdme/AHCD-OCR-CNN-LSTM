{
  "nbformat": 4,
  "nbformat_minor": 0,
  "metadata": {
    "colab": {
      "name": "Appendix: OCR AHCB CNN + LSTM with Dropout.ipynb",
      "provenance": [],
      "private_outputs": true,
      "collapsed_sections": [],
      "authorship_tag": "ABX9TyNhRu8aVDMSb9f2IwR50e21",
      "include_colab_link": true
    },
    "kernelspec": {
      "name": "python3",
      "display_name": "Python 3"
    },
    "accelerator": "GPU"
  },
  "cells": [
    {
      "cell_type": "markdown",
      "metadata": {
        "id": "view-in-github",
        "colab_type": "text"
      },
      "source": [
        "<a href=\"https://colab.research.google.com/github/qwesdme/AHCD-OCR-CNN-LSTM/blob/master/Appendix_OCR_AHCB_CNN_%2B_LSTM_with_Dropout.ipynb\" target=\"_parent\"><img src=\"https://colab.research.google.com/assets/colab-badge.svg\" alt=\"Open In Colab\"/></a>"
      ]
    },
    {
      "cell_type": "markdown",
      "metadata": {
        "id": "ZIk3Bk3eo0-Y",
        "colab_type": "text"
      },
      "source": [
        "#Import libraries"
      ]
    },
    {
      "cell_type": "code",
      "metadata": {
        "id": "fkBGIrMjotn0",
        "colab_type": "code",
        "colab": {}
      },
      "source": [
        "from __future__ import absolute_import, division, print_function, unicode_literals\n",
        "from pathlib import Path\n",
        "\n",
        "import io\n",
        "import numpy as np\n",
        "import pandas as pd\n",
        "import tensorflow as tf\n",
        "import matplotlib.pyplot as plt\n",
        "\n",
        "from plotly import express as px\n",
        "from plotly import graph_objects as go\n",
        "from plotly import figure_factory as ff\n",
        "\n",
        "from tensorflow.keras.layers import *\n",
        "from tensorflow.keras.callbacks import *\n",
        "from tensorflow.keras.optimizers import *\n",
        "from tensorflow.keras.utils import plot_model\n",
        "from tensorflow.keras.models import Sequential\n",
        "from tensorflow.keras.preprocessing.image import ImageDataGenerator\n",
        "from tensorflow.keras.wrappers.scikit_learn import KerasRegressor"
      ],
      "execution_count": 0,
      "outputs": []
    },
    {
      "cell_type": "markdown",
      "metadata": {
        "id": "9C570YBoo8Qc",
        "colab_type": "text"
      },
      "source": [
        "#Prepare datasets"
      ]
    },
    {
      "cell_type": "code",
      "metadata": {
        "id": "Ew08D4lxpBye",
        "colab_type": "code",
        "colab": {}
      },
      "source": [
        "# Load datasets\n",
        "def git_file(file_name):\n",
        "    return f\"https://github.com/EyeBool/YAGAN/blob/master/data/Arabic/{file_name}?raw=true\"\n",
        "\n",
        "x_train_data = pd.read_csv(git_file(\"csvTrainImages%2013440x1024.csv\"), header = None)\n",
        "x_test_data = pd.read_csv(git_file(\"csvTestImages%203360x1024.csv\"), header = None)\n",
        "\n",
        "y_train_data = pd.read_csv(git_file(\"csvTrainLabel%2013440x1.csv\"), header = None)\n",
        "y_test_data = pd.read_csv(git_file(\"csvTestLabel%203360x1.csv\"), header = None)\n",
        "\n",
        "# Normalize datasets - set range from (0 - 255) to (0.0 - 1.0) \n",
        "x_train = (x_train_data.iloc[:,:].values.astype('float32') / 255).reshape([-1, 32, 32, 1])\n",
        "x_test = (x_test_data.iloc[:,:].values.astype('float32') / 255).reshape([-1, 32, 32, 1])\n",
        "\n",
        "# Convert class vectors to binary class matrices\n",
        "y_train = tf.keras.utils.to_categorical(y_train_data - 1, 28)\n",
        "y_test = tf.keras.utils.to_categorical(y_test_data - 1, 28)\n",
        "\n",
        "# Print input shape\n",
        "print(\"Input shape for images:\", x_train.shape)\n",
        "print(\"Input shape for labels:\", y_train.shape)"
      ],
      "execution_count": 0,
      "outputs": []
    },
    {
      "cell_type": "code",
      "metadata": {
        "id": "GjepBedx3Fdx",
        "colab_type": "code",
        "colab": {}
      },
      "source": [
        "f = px.imshow(np.transpose(x_train[0].reshape((32, 32))))\n",
        "f.update_layout(width=480, height=480)\n",
        "f.show()\n",
        "\n",
        "def visualize_images(df, img_size, number_of_images):\n",
        "    plt.figure(figsize=(8, 8))\n",
        "    reshaped_df = df.reshape(df.shape[0], img_size, img_size)\n",
        "    number_of_rows = number_of_images/4 if number_of_images%4 == 0 else (number_of_images/4) +1\n",
        "    for i in range(number_of_images):\n",
        "        plt.subplot(number_of_rows, 4, i+1, xticks=[], yticks=[])\n",
        "        plt.imshow(np.transpose(reshaped_df[i * 4]), cmap='BuPu')\n",
        "\n",
        "visualize_images(x_train, 32, 16)  # 32, image size, 16, num of image to show "
      ],
      "execution_count": 0,
      "outputs": []
    },
    {
      "cell_type": "markdown",
      "metadata": {
        "id": "99OG-a1m9s6P",
        "colab_type": "text"
      },
      "source": [
        "#Prepare training images "
      ]
    },
    {
      "cell_type": "code",
      "metadata": {
        "id": "GlMfoYwvCAGd",
        "colab_type": "code",
        "colab": {}
      },
      "source": [
        "# Split training images into fitting set and fit validation set  \n",
        "\n",
        "x_fit = x_train[1000:]\n",
        "y_fit = y_train[1000:]\n",
        "\n",
        "x_fit_val = x_train[:1000]\n",
        "y_fit_val = y_train[:1000]\n",
        "\n",
        "print('Total images for fitting   :', len(x_fit))\n",
        "print('Total images for validating: ', len(x_fit_val))"
      ],
      "execution_count": 0,
      "outputs": []
    },
    {
      "cell_type": "code",
      "metadata": {
        "id": "StaOjpYl91Bx",
        "colab_type": "code",
        "colab": {}
      },
      "source": [
        "# Use Keras ImageDataGenerator to generate to image data with real-time data augmentation.\n",
        "\n",
        "datagen = ImageDataGenerator(  \n",
        "        rotation_range=10,  \n",
        "        zoom_range = 0.1,\n",
        "        width_shift_range=0.1,  \n",
        "        height_shift_range=0.1, \n",
        "        horizontal_flip=False,  \n",
        "        vertical_flip=False)  \n",
        "\n",
        "datagen.fit(x_train)"
      ],
      "execution_count": 0,
      "outputs": []
    },
    {
      "cell_type": "markdown",
      "metadata": {
        "id": "oKq2VGOI7vrW",
        "colab_type": "text"
      },
      "source": [
        "#Create and train neural network models"
      ]
    },
    {
      "cell_type": "code",
      "metadata": {
        "id": "kfOHolMvCPly",
        "colab_type": "code",
        "colab": {}
      },
      "source": [
        "# Set input shape\n",
        "input_shape = (x_train.shape[1], x_train.shape[1], x_train.shape[3])\n",
        "print(input_shape)"
      ],
      "execution_count": 0,
      "outputs": []
    },
    {
      "cell_type": "code",
      "metadata": {
        "id": "6yMtKCXCneEh",
        "colab_type": "code",
        "colab": {}
      },
      "source": [
        "# Create function to compile and train model\n",
        "\n",
        "def compile_and_train(nn_model):\n",
        "    model: Sequential = nn_model\n",
        "\n",
        "    model.compile(\n",
        "        optimizer=Adam(amsgrad=True),\n",
        "        loss='categorical_crossentropy',\n",
        "        metrics=['categorical_accuracy']\n",
        "    )\n",
        "\n",
        "\n",
        "    learning_rate = ReduceLROnPlateau(\n",
        "        monitor='val_categorical_accuracy', \n",
        "        patience=3, \n",
        "        verbose=1, \n",
        "        factor=9/10, \n",
        "        cooldown=2,\n",
        "        min_delta=0.0005,\n",
        "        min_lr=0.0005\n",
        "        )\n",
        "    \n",
        "    history = model.fit_generator(\n",
        "        datagen.flow(x_fit, y_fit, batch_size = 64),\n",
        "        epochs = 30, \n",
        "        callbacks=[learning_rate],\n",
        "        steps_per_epoch=x_train.shape[0] // 64,\n",
        "        validation_data = (x_fit_val, y_fit_val),\n",
        "        verbose=2\n",
        "        )"
      ],
      "execution_count": 0,
      "outputs": []
    },
    {
      "cell_type": "code",
      "metadata": {
        "id": "3ht-f-aCdAAJ",
        "colab_type": "code",
        "colab": {}
      },
      "source": [
        "def evaluate(nn_model):\n",
        "    return nn_model.evaluate(x_test, y_test)"
      ],
      "execution_count": 0,
      "outputs": []
    },
    {
      "cell_type": "code",
      "metadata": {
        "id": "KRJSNSjkVg00",
        "colab_type": "code",
        "colab": {}
      },
      "source": [
        "# Create function to evaluate model and plot chart\n",
        "\n",
        "def evaluate_and_plot(nn_model, title):\n",
        "    model = nn_model\n",
        "    acc = evaluate(model)[1]*100\n",
        "\n",
        "    cols =[\"loss\", \"categorical_accuracy\", \"val_loss\", \"val_categorical_accuracy\", \"lr\"]\n",
        "    col_names = [\"Loss\", \"Categorical accuracy\", \"Validation loss\", \"Validation categorical accuracy\", \"learning rate (x 1000)\"]\n",
        "    names = {cols[i]: col_names[i] for i in range(len(cols))}\n",
        "\n",
        "    x = pd.DataFrame(model.history.history, columns=cols)\n",
        "\n",
        "    fig = go.Figure()\n",
        "\n",
        "    for col in cols:\n",
        "        fig.add_trace(go.Scatter(x=x.index, y= [i * 1000 for i in x[col]] if col is 'lr' else x[col], mode='lines', name=names[col]))\n",
        "    fig.update_layout(title=f\"{title} | Accuracy: {acc:.3f}%\",\n",
        "                    xaxis_title=\"Epoch\",\n",
        "                    yaxis_title=\"Rate\",\n",
        "    )\n",
        "    return fig"
      ],
      "execution_count": 0,
      "outputs": []
    },
    {
      "cell_type": "code",
      "metadata": {
        "id": "ENDjV9zGnQxI",
        "colab_type": "code",
        "colab": {}
      },
      "source": [
        "# Build convolutional neural network (CNN) model\n",
        "\n",
        "def build_CNN_model():\n",
        "    return Sequential([\n",
        "        # Input layer \n",
        "        Input(shape=input_shape),\n",
        "\n",
        "        # Convolutional layer block 1\n",
        "        Conv2D(64, 5, padding='same', activation=\"relu\"),\n",
        "        Conv2D(64, 5, activation=\"relu\"),\n",
        "        MaxPooling2D(2),\n",
        "     \n",
        "        # Convolutional layer block 2\n",
        "        Conv2D(128, 3, padding='same', activation=\"relu\"),\n",
        "        Conv2D(128, 3, activation=\"relu\"),\n",
        "        MaxPooling2D(2),\n",
        "\n",
        "        # Convolutional layer block 3\n",
        "        Conv2D(256, 3, padding='same', activation=\"relu\"),\n",
        "        Conv2D(256, 3, activation=\"relu\"),\n",
        "        MaxPooling2D(2),\n",
        "\n",
        "        #Dense layer\n",
        "        Flatten(),\n",
        "        Dense(1024, activation=\"relu\"), \n",
        "\n",
        "        # Output layer\n",
        "        Flatten(),\n",
        "        Dense(28, activation=\"softmax\"), \n",
        "    ])\n",
        "\n",
        "CNN_model = build_CNN_model()\n",
        "\n",
        "CNN_model.summary()"
      ],
      "execution_count": 0,
      "outputs": []
    },
    {
      "cell_type": "code",
      "metadata": {
        "id": "WNU8eaia30p2",
        "colab_type": "code",
        "colab": {}
      },
      "source": [
        "compile_and_train(CNN_model)"
      ],
      "execution_count": 0,
      "outputs": []
    },
    {
      "cell_type": "code",
      "metadata": {
        "id": "SeJWVmMiW_6g",
        "colab_type": "code",
        "colab": {}
      },
      "source": [
        "CNN_fig = evaluate_and_plot(CNN_model, \"Training CNN\")\n",
        "CNN_fig.show()"
      ],
      "execution_count": 0,
      "outputs": []
    },
    {
      "cell_type": "code",
      "metadata": {
        "id": "JeozuRBg9LPN",
        "colab_type": "code",
        "colab": {}
      },
      "source": [
        "# Build convolutional neural network (CNN) model with Dropout\n",
        "\n",
        "def build_CNN_dropout_model():\n",
        "    return Sequential([\n",
        "        # Input layer \n",
        "        Input(shape=input_shape),\n",
        "\n",
        "        # Convolutional layer block 1\n",
        "        Conv2D(64, 5, padding='same', activation=\"relu\"),\n",
        "        Conv2D(64, 5, activation=\"relu\"),\n",
        "        MaxPooling2D(2),\n",
        "        Dropout(0.25),\n",
        "     \n",
        "        # Convolutional layer block 2\n",
        "        Conv2D(128, 3, padding='same', activation=\"relu\"),\n",
        "        Conv2D(128, 3, activation=\"relu\"),\n",
        "        MaxPooling2D(2),\n",
        "        Dropout(0.25),\n",
        "\n",
        "        # Convolutional layer block 3\n",
        "        Conv2D(256, 3, padding='same', activation=\"relu\"),\n",
        "        Conv2D(256, 3, activation=\"relu\"),\n",
        "        MaxPooling2D(2),\n",
        "        Dropout(0.25),\n",
        "\n",
        "        #Dense layer\n",
        "        Flatten(),\n",
        "        Dense(1024, activation=\"relu\"), \n",
        "        Dropout(0.25),\n",
        "\n",
        "        # Output layer\n",
        "        Flatten(),\n",
        "        Dense(28, activation=\"softmax\"), \n",
        "    ])\n",
        "\n",
        "CNN_dropout_model = build_CNN_dropout_model()\n",
        "\n",
        "CNN_dropout_model.summary()\n"
      ],
      "execution_count": 0,
      "outputs": []
    },
    {
      "cell_type": "code",
      "metadata": {
        "id": "5mNWGwdpD6vD",
        "colab_type": "code",
        "colab": {}
      },
      "source": [
        "compile_and_train(CNN_dropout_model)"
      ],
      "execution_count": 0,
      "outputs": []
    },
    {
      "cell_type": "code",
      "metadata": {
        "id": "WUvLRgntFJr2",
        "colab_type": "code",
        "colab": {}
      },
      "source": [
        "CNN_dropout_fig = evaluate_and_plot(CNN_dropout_model,\"Training CNN (with Dropout)\")\n",
        "CNN_dropout_fig.show()"
      ],
      "execution_count": 0,
      "outputs": []
    },
    {
      "cell_type": "code",
      "metadata": {
        "id": "-fFGwy4JNPXB",
        "colab_type": "code",
        "colab": {}
      },
      "source": [
        "# Build long short term memory (LSTM) neural network model\n",
        "\n",
        "def build_LSTM_model():\n",
        "    return Sequential([\n",
        "        # Input layer \n",
        "        Input(shape=input_shape),\n",
        "\n",
        "        # LSTM layer\n",
        "        Flatten(),\n",
        "        Reshape((2, 512)),\n",
        "        LSTM(280),\n",
        "        Dropout(0.25),\n",
        "\n",
        "        # Output layer\n",
        "        Flatten(),\n",
        "        Dense(28, activation=\"softmax\"), \n",
        "    ])\n",
        "\n",
        "LSTM_model = build_LSTM_model()\n",
        "\n",
        "LSTM_model.summary()\n"
      ],
      "execution_count": 0,
      "outputs": []
    },
    {
      "cell_type": "code",
      "metadata": {
        "id": "UubqDsBxNn8i",
        "colab_type": "code",
        "colab": {}
      },
      "source": [
        "compile_and_train(LSTM_model)"
      ],
      "execution_count": 0,
      "outputs": []
    },
    {
      "cell_type": "code",
      "metadata": {
        "id": "XZVApDriN_1h",
        "colab_type": "code",
        "colab": {}
      },
      "source": [
        "LSTM_fig = evaluate_and_plot(LSTM_model, \"Training LSTM (100 cells)\")\n",
        "LSTM_fig.show()"
      ],
      "execution_count": 0,
      "outputs": []
    },
    {
      "cell_type": "code",
      "metadata": {
        "id": "m96t3E7Sf551",
        "colab_type": "code",
        "colab": {}
      },
      "source": [
        "LSTM_fig = evaluate_and_plot(LSTM_model, \"Training LSTM (200 cells)\")\n",
        "LSTM_fig.show()"
      ],
      "execution_count": 0,
      "outputs": []
    },
    {
      "cell_type": "code",
      "metadata": {
        "id": "FuOOH0hetmxF",
        "colab_type": "code",
        "colab": {}
      },
      "source": [
        "LSTM_fig = evaluate_and_plot(LSTM_model, \"Training LSTM (300 cells)\")\n",
        "LSTM_fig.show()"
      ],
      "execution_count": 0,
      "outputs": []
    },
    {
      "cell_type": "code",
      "metadata": {
        "id": "2BUYv6rtt3lV",
        "colab_type": "code",
        "colab": {}
      },
      "source": [
        "LSTM_fig = evaluate_and_plot(LSTM_model, \"Training LSTM (400 cells)\")\n",
        "LSTM_fig.show()"
      ],
      "execution_count": 0,
      "outputs": []
    },
    {
      "cell_type": "code",
      "metadata": {
        "id": "yAbDQAqBuNV0",
        "colab_type": "code",
        "colab": {}
      },
      "source": [
        "LSTM_fig = evaluate_and_plot(LSTM_model, \"Training LSTM (500 cells)\")\n",
        "LSTM_fig.show()"
      ],
      "execution_count": 0,
      "outputs": []
    },
    {
      "cell_type": "code",
      "metadata": {
        "id": "YRgzjvg46R0n",
        "colab_type": "code",
        "colab": {}
      },
      "source": [
        "LSTM_fig = evaluate_and_plot(LSTM_model, \"Training LSTM (1000 cells)\")\n",
        "LSTM_fig.show()"
      ],
      "execution_count": 0,
      "outputs": []
    },
    {
      "cell_type": "code",
      "metadata": {
        "id": "ghphT2wM8U5i",
        "colab_type": "code",
        "colab": {}
      },
      "source": [
        "# Build hybrid neural network model\n",
        "\n",
        "def build_hybrid_model():\n",
        "    return Sequential([\n",
        "        # Input layer \n",
        "        Input(shape=input_shape),\n",
        "\n",
        "        # Convolutional layer block 1\n",
        "        Conv2D(64, 5, padding='same', activation=\"relu\"),\n",
        "        Conv2D(64, 5, activation=\"relu\"),\n",
        "        MaxPooling2D(2),\n",
        "        Dropout(0.25),\n",
        "     \n",
        "        # Convolutional layer block 2\n",
        "        Conv2D(128, 3, padding='same', activation=\"relu\"),\n",
        "        Conv2D(128, 3, activation=\"relu\"),\n",
        "        MaxPooling2D(2),\n",
        "        Dropout(0.25),\n",
        "\n",
        "        # Convolutional layer block 3\n",
        "        Conv2D(256, 3, padding='same', activation=\"relu\"),\n",
        "        Conv2D(256, 3, activation=\"relu\"),\n",
        "        MaxPooling2D(2),\n",
        "        Dropout(0.25),\n",
        "\n",
        "        #Dense layer\n",
        "        Flatten(),\n",
        "        Dense(1024, activation=\"relu\"), \n",
        "        Dropout(0.25),\n",
        "\n",
        "        # LSTM layer\n",
        "        Flatten(),\n",
        "        Reshape((2, 512)),\n",
        "        LSTM(300, return_sequences=True),\n",
        "        Dropout(0.25),\n",
        "\n",
        "        # Output layer\n",
        "        Flatten(),\n",
        "        Dense(28, activation=\"softmax\"), \n",
        "    ])\n"
      ],
      "execution_count": 0,
      "outputs": []
    },
    {
      "cell_type": "code",
      "metadata": {
        "id": "HmyZ5NP1vdi9",
        "colab_type": "code",
        "colab": {}
      },
      "source": [
        "hybrid_model = build_hybrid_model()\n",
        "compile_and_train(hybrid_model)\n",
        "while(evaluate(hybrid_model)[1]*100) < 98.2:\n",
        "    model = hybrid_model = build_hybrid_model()\n",
        "    # hybrid_model.summary()\n",
        "    compile_and_train(hybrid_model)"
      ],
      "execution_count": 0,
      "outputs": []
    },
    {
      "cell_type": "code",
      "metadata": {
        "id": "OiNNbtjtaf0l",
        "colab_type": "code",
        "colab": {}
      },
      "source": [
        "hybrid_fig = evaluate_and_plot(hybrid_model, \"Training CNN + LSTM(300) (with Dropout)\")\n",
        "hybrid_fig.show()"
      ],
      "execution_count": 0,
      "outputs": []
    },
    {
      "cell_type": "markdown",
      "metadata": {
        "id": "EZ_4MLhC831n",
        "colab_type": "text"
      },
      "source": [
        "#Result and evaluation"
      ]
    },
    {
      "cell_type": "code",
      "metadata": {
        "id": "Mg_kZyWjnDbM",
        "colab_type": "code",
        "colab": {}
      },
      "source": [
        "from sklearn.metrics import confusion_matrix\n",
        "import itertools\n",
        "import numpy as np\n",
        "plt.figure(num='digit',figsize=(9,9))\n",
        "def plot_confusion_matrix(cm, classes,\n",
        "                          normalize=False,\n",
        "                          title='Confusion matrix',\n",
        "                          cmap=plt.cm.Blues):\n",
        "    \"\"\"\n",
        "    This function prints and plots the confusion matrix.\n",
        "    Normalization can be applied by setting `normalize=True`.\n",
        "    \"\"\"\n",
        "    plt.imshow(cm, interpolation='nearest', cmap=cmap)\n",
        "    plt.title(title)\n",
        "    plt.colorbar()\n",
        "    tick_marks = np.arange(len(classes))\n",
        "    plt.xticks(tick_marks, classes, rotation=45)\n",
        "    plt.yticks(tick_marks, classes)\n",
        "\n",
        "    if normalize:\n",
        "        cm = cm.astype('float') / cm.sum(axis=1)[:, np.newaxis]\n",
        "\n",
        "    thresh = cm.max() / 2.\n",
        "    for i, j in itertools.product(range(cm.shape[0]), range(cm.shape[1])):\n",
        "        plt.text(j, i, cm[i, j],\n",
        "                 horizontalalignment=\"center\",\n",
        "                 color=\"white\" if cm[i, j] > thresh else \"black\")\n",
        "\n",
        "    plt.tight_layout()\n",
        "    plt.ylabel('True label')\n",
        "    plt.xlabel('Predicted label')\n",
        "\n",
        "# Predict the values from the validation dataset\n",
        "Y_pred = model.predict(x_test)\n",
        "# Convert predictions classes to one hot vectors \n",
        "Y_pred_classes = np.argmax(Y_pred,axis = 1) \n",
        "# Convert validation observations to one hot vectors\n",
        "Y_true = np.argmax(y_test,axis = 1) \n",
        "# compute the confusion matrix\n",
        "confusion_mtx = confusion_matrix(Y_true, Y_pred_classes) \n",
        "# plot the confusion matrix\n",
        "plot_confusion_matrix(confusion_mtx, classes = range(10))"
      ],
      "execution_count": 0,
      "outputs": []
    },
    {
      "cell_type": "code",
      "metadata": {
        "id": "HF6s5Ml4ts52",
        "colab_type": "code",
        "colab": {}
      },
      "source": [
        "Y_pred = model.predict(x_test)\n",
        "Y_true = np.argmax(y_test,axis = 1) \n",
        "\n",
        "Y_pred_classes = np.argmax(Y_pred,axis = 1) \n",
        "\n",
        "tp = (Y_pred_classes - Y_true == 0)\n",
        "fp = (Y_pred_classes - Y_true != 0)\n",
        "\n",
        "fn = (Y_pred_classes - Y_true != 1)\n",
        "tn = (Y_pred_classes - Y_true == 1)\n",
        "\n",
        "print(\"True positive  :\", list(tp).count(True))\n",
        "print(\"False positive :\", list(fp).count(True))\n",
        "print(\"True negative  :\", list(tn).count(True))\n",
        "print(\"False negative :\", list(fn).count(True))\n"
      ],
      "execution_count": 0,
      "outputs": []
    },
    {
      "cell_type": "code",
      "metadata": {
        "id": "1UmlbaTBsw3p",
        "colab_type": "code",
        "colab": {}
      },
      "source": [
        "#Display some error results \n",
        "errors = (Y_pred_classes - Y_true != 0)\n",
        "\n",
        "Y_pred_classes_errors = Y_pred_classes[errors]\n",
        "Y_pred_errors = Y_pred[errors]\n",
        "Y_true_errors = Y_true[errors]\n",
        "X_val_errors = x_test[errors]\n",
        "\n",
        "def display_errors(errors_index,img_errors,pred_errors, obs_errors):\n",
        "    \"\"\" This function shows 6 images with their predicted and real labels\"\"\"\n",
        "    n = 0\n",
        "    nrows = 4\n",
        "    ncols = 4\n",
        "    plt.figure(num='digit',figsize=(25,25))\n",
        "    fig, ax = plt.subplots(nrows,ncols,sharex=True,sharey=True)\n",
        "    for row in range(nrows):\n",
        "        for col in range(ncols):\n",
        "            error = errors_index[n]\n",
        "\n",
        "            im_err = np.transpose(img_errors[error].reshape((32, 32)))\n",
        "            ax[row,col].imshow(im_err)\n",
        "            ax[row,col].set_title(\"Predicted label :{}\\nTrue label :{}\".format(pred_errors[error],obs_errors[error]))\n",
        "            n += 1\n",
        "\n",
        "# Probabilities of the wrong predicted numbers\n",
        "Y_pred_errors_prob = np.max(Y_pred_errors,axis = 1)\n",
        "\n",
        "# Predicted probabilities of the true values in the error set\n",
        "true_prob_errors = np.diagonal(np.take(Y_pred_errors, Y_true_errors, axis=1))\n",
        "\n",
        "# Difference between the probability of the predicted label and the true label\n",
        "delta_pred_true_errors = Y_pred_errors_prob - true_prob_errors\n",
        "\n",
        "# Sorted list of the delta prob errors\n",
        "sorted_dela_errors = np.argsort(delta_pred_true_errors)\n",
        "\n",
        "# Top 6 errors \n",
        "most_important_errors = sorted_dela_errors[-16:]\n",
        "\n",
        "# Show the top 6 errors\n",
        "display_errors(most_important_errors, X_val_errors, Y_pred_classes_errors, Y_true_errors)"
      ],
      "execution_count": 0,
      "outputs": []
    },
    {
      "cell_type": "markdown",
      "metadata": {
        "id": "bPgqDJ8B9eWv",
        "colab_type": "text"
      },
      "source": [
        "#Save trained neural network model"
      ]
    },
    {
      "cell_type": "code",
      "metadata": {
        "id": "zHJdCY9ttrcw",
        "colab_type": "code",
        "colab": {}
      },
      "source": [
        "from google.colab import drive\n",
        "drive.mount('/content/drive')"
      ],
      "execution_count": 0,
      "outputs": []
    },
    {
      "cell_type": "code",
      "metadata": {
        "colab_type": "code",
        "id": "1mqCAw0dvC-F",
        "colab": {}
      },
      "source": [
        "from datetime import datetime\n",
        "# Save neural network structure\n",
        "model_structure = model.to_yaml()\n",
        "f = Path(f\"/content/drive/My Drive/Colab Notebooks/models/CNN_LSTM_model_structure{datetime.now()}{acc:.3f}.yaml\")\n",
        "f.write_text(model_structure)\n",
        "\n",
        "# Save neural network's trained weights\n",
        "model.save_weights(f\"/content/drive/My Drive/Colab Notebooks/models/CNN_LSTM_model_weights{datetime.now()}{acc:.3f}.h5\")\n",
        "print(f\"Done saving {f}\")"
      ],
      "execution_count": 0,
      "outputs": []
    }
  ]
}